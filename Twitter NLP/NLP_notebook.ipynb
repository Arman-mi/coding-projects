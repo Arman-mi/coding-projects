{
 "cells": [
  {
   "cell_type": "code",
   "execution_count": 1,
   "metadata": {},
   "outputs": [
    {
     "name": "stdout",
     "output_type": "stream",
     "text": [
      "   TweetID       entity sentiment  \\\n",
      "0     2401  Borderlands  Positive   \n",
      "1     2401  Borderlands  Positive   \n",
      "2     2401  Borderlands  Positive   \n",
      "3     2401  Borderlands  Positive   \n",
      "4     2401  Borderlands  Positive   \n",
      "\n",
      "                                             message  \n",
      "0  im getting on borderlands and i will murder yo...  \n",
      "1  I am coming to the borders and I will kill you...  \n",
      "2  im getting on borderlands and i will kill you ...  \n",
      "3  im coming on borderlands and i will murder you...  \n",
      "4  im getting on borderlands 2 and i will murder ...  \n"
     ]
    }
   ],
   "source": [
    "import pandas as pd\n",
    "from sklearn.linear_model import LogisticRegression\n",
    "from sklearn.metrics import accuracy_score, classification_report\n",
    "\n",
    "#if the cell errors\n",
    "#please specify the path for the data to match the current path on your computer.\n",
    "\n",
    "data = pd.read_csv(r'./Data/twitter_training.csv', encoding='ISO-8859-1', header=None)\n",
    "data.columns=['TweetID','entity','sentiment','message']\n",
    "\n",
    "print(data.head())\n",
    "messages=data[\"message\"]\n",
    "messages = messages.fillna('')\n",
    "messages = messages.astype(str)\n"
   ]
  },
  {
   "cell_type": "code",
   "execution_count": 2,
   "metadata": {},
   "outputs": [
    {
     "name": "stdout",
     "output_type": "stream",
     "text": [
      "   TweetID       entity sentiment  \\\n",
      "0     2401  Borderlands  Positive   \n",
      "1     2401  Borderlands  Positive   \n",
      "2     2401  Borderlands  Positive   \n",
      "3     2401  Borderlands  Positive   \n",
      "4     2401  Borderlands  Positive   \n",
      "\n",
      "                                             message  message_length  \n",
      "0  im getting on borderlands and i will murder yo...              53  \n",
      "1  I am coming to the borders and I will kill you...              51  \n",
      "2  im getting on borderlands and i will kill you ...              50  \n",
      "3  im coming on borderlands and i will murder you...              51  \n",
      "4  im getting on borderlands 2 and i will murder ...              57  \n",
      "count     74682\n",
      "unique    69492\n",
      "top            \n",
      "freq        686\n",
      "Name: message, dtype: object\n"
     ]
    }
   ],
   "source": [
    "# print(data.info)\n",
    "# print(data['sentiment'].value_counts())\n",
    "# print(messages.isnull().sum())\n",
    "# print(messages.dtype)\n",
    "data['message_length'] = messages.apply(len) \n",
    "print(data.head())\n",
    "print(messages.describe())"
   ]
  },
  {
   "cell_type": "code",
   "execution_count": null,
   "metadata": {},
   "outputs": [
    {
     "name": "stderr",
     "output_type": "stream",
     "text": [
      "[nltk_data] Downloading package stopwords to\n",
      "[nltk_data]     C:\\Users\\arman\\AppData\\Roaming\\nltk_data...\n",
      "[nltk_data]   Package stopwords is already up-to-date!\n",
      "[nltk_data] Downloading package wordnet to\n",
      "[nltk_data]     C:\\Users\\arman\\AppData\\Roaming\\nltk_data...\n",
      "[nltk_data]   Package wordnet is already up-to-date!\n"
     ]
    },
    {
     "name": "stdout",
     "output_type": "stream",
     "text": [
      "0      im getting borderland murder\n",
      "1                coming border kill\n",
      "2        im getting borderland kill\n",
      "3       im coming borderland murder\n",
      "4    im getting borderland 2 murder\n",
      "Name: cleaned_tweet, dtype: object\n"
     ]
    }
   ],
   "source": [
    "import re\n",
    "import nltk\n",
    "from nltk.corpus import stopwords\n",
    "nltk.download('stopwords')\n",
    "nltk.download('wordnet')\n",
    "from nltk.stem import WordNetLemmatizer\n",
    "\n",
    "# Initialize the lemmatizer and stop words\n",
    "lemmatizer = WordNetLemmatizer()\n",
    "stop_words = set(stopwords.words('english'))\n",
    "\n",
    "def preprocess_tweet(tweet):\n",
    "    # Remove URLs, mentions, hashtags, and special characters\n",
    "    tweet = re.sub(r'http\\S+|www\\S+|@\\S+|#\\S+|[^A-Za-z0-9\\s]+', '', tweet)\n",
    "    # Convert to lowercase\n",
    "    tweet = tweet.lower()\n",
    "    # Tokenize and remove stopwords\n",
    "    words = [word for word in tweet.split() if word not in stop_words]\n",
    "    # Lemmatize the words\n",
    "    words = [lemmatizer.lemmatize(word) for word in words]\n",
    "    return ' '.join(words)\n",
    "\n",
    "data['cleaned_tweet'] = messages.apply(preprocess_tweet)\n",
    "print(data['cleaned_tweet'].head())\n"
   ]
  },
  {
   "cell_type": "code",
   "execution_count": 7,
   "metadata": {},
   "outputs": [],
   "source": [
    "validation_data = pd.read_csv(r'./Data/twitter_validation.csv', encoding='ISO-8859-1', header = None)\n",
    "validation_data.columns= ['TweetID','entity','sentiment','message']\n",
    "\n",
    "#validation_data.head()\n",
    "validation_data['cleaned_tweet'] = validation_data['message'].apply(preprocess_tweet)\n"
   ]
  },
  {
   "cell_type": "code",
   "execution_count": null,
   "metadata": {},
   "outputs": [
    {
     "name": "stdout",
     "output_type": "stream",
     "text": [
      "Training data shape: (74682, 5000)\n",
      "Validation data shape: (1000, 5000)\n"
     ]
    }
   ],
   "source": [
    "\"\"\" \n",
    "this is the part that we build a model and convert the texts into features.\n",
    "\"\"\"\n",
    "from sklearn.feature_extraction.text import TfidfVectorizer\n",
    "vectorizer = TfidfVectorizer(max_features = 5000)\n",
    "X_train = vectorizer.fit_transform(data['cleaned_tweet'])\n",
    "X_val = vectorizer.transform(validation_data['cleaned_tweet'])\n",
    "print(f'Training data shape: {X_train.shape}')\n",
    "print(f'Validation data shape: {X_val.shape}')"
   ]
  },
  {
   "cell_type": "code",
   "execution_count": null,
   "metadata": {},
   "outputs": [],
   "source": [
    "\n",
    "model = LogisticRegression(max_iter = 1000)\n",
    "model.fit(X_train, data['sentiment'])\n",
    "y_pred = model.predict(X_val)\n"
   ]
  },
  {
   "cell_type": "code",
   "execution_count": null,
   "metadata": {},
   "outputs": [
    {
     "name": "stdout",
     "output_type": "stream",
     "text": [
      "Validation Accuracy: 80.00%\n",
      "              precision    recall  f1-score   support\n",
      "\n",
      "    Negative       0.78      0.70      0.74       172\n",
      "     Neutral       0.77      0.88      0.82       266\n",
      "    Positive       0.86      0.74      0.79       285\n",
      "  Irrelevant       0.79      0.84      0.82       277\n",
      "\n",
      "    accuracy                           0.80      1000\n",
      "   macro avg       0.80      0.79      0.79      1000\n",
      "weighted avg       0.80      0.80      0.80      1000\n",
      "\n"
     ]
    }
   ],
   "source": [
    "accuracy = accuracy_score(validation_data['sentiment'], y_pred)\n",
    "print(f'Validation Accuracy: {accuracy * 100:.2f}%')\n",
    "print(classification_report(validation_data['sentiment'], y_pred, target_names=['Negative', 'Neutral', 'Positive', 'Irrelevant']))\n"
   ]
  },
  {
   "cell_type": "code",
   "execution_count": 11,
   "metadata": {},
   "outputs": [
    {
     "data": {
      "text/plain": [
       "['tfidf_vectorizer.pkl']"
      ]
     },
     "execution_count": 11,
     "metadata": {},
     "output_type": "execute_result"
    }
   ],
   "source": [
    "\"now I wanna save this model and take an input from the user in which then tries to categorizes the given review\"\n",
    "import joblib\n",
    "joblib.dump(model, 'logistic_regression_model.pkl')\n",
    "joblib.dump(vectorizer, 'tfidf_vectorizer.pkl')"
   ]
  },
  {
   "cell_type": "code",
   "execution_count": 12,
   "metadata": {},
   "outputs": [],
   "source": [
    "model = joblib.load('logistic_regression_model.pkl')\n",
    "vectorizer = joblib.load('tfidf_vectorizer.pkl')\n",
    "def classify_sentence(sentence):\n",
    "    sentence_cleaned = preprocess_tweet(sentence)  \n",
    "    sentence_vectorized = vectorizer.transform([sentence_cleaned])\n",
    "    prediction = model.predict(sentence_vectorized)\n",
    "\n",
    "    label_mapping = {0: 'Negative', 1: 'Neutral', 2: 'Positive', 3: 'Irrelevant'}\n",
    "    return label_mapping[prediction[0]]"
   ]
  },
  {
   "cell_type": "code",
   "execution_count": 1,
   "metadata": {},
   "outputs": [
    {
     "data": {
      "application/vnd.jupyter.widget-view+json": {
       "model_id": "8db80eb241034ee08634daecc9b23321",
       "version_major": 2,
       "version_minor": 0
      },
      "text/plain": [
       "Text(value='', description='Input:', placeholder='Enter a sentence...')"
      ]
     },
     "metadata": {},
     "output_type": "display_data"
    },
    {
     "data": {
      "application/vnd.jupyter.widget-view+json": {
       "model_id": "344e4adfaf294397a8f34ddb3edc6571",
       "version_major": 2,
       "version_minor": 0
      },
      "text/plain": [
       "Button(button_style='primary', description='Classify', style=ButtonStyle())"
      ]
     },
     "metadata": {},
     "output_type": "display_data"
    },
    {
     "data": {
      "application/vnd.jupyter.widget-view+json": {
       "model_id": "8ede97e961ab41689a9fa389dca4b869",
       "version_major": 2,
       "version_minor": 0
      },
      "text/plain": [
       "Output()"
      ]
     },
     "metadata": {},
     "output_type": "display_data"
    }
   ],
   "source": [
    "import ipywidgets as widgets\n",
    "from IPython.display import display, clear_output\n",
    "input_box = widgets.Text(\n",
    "    placeholder='Enter a sentence...',\n",
    "    description='Input:',\n",
    "    disabled=False\n",
    ")\n",
    "submit_button = widgets.Button(\n",
    "    description=\"Classify\",\n",
    "    button_style='primary'\n",
    ")\n",
    "output = widgets.Output()\n",
    "\n",
    "def classify_sentence(sentence):\n",
    "    sentence_cleaned = preprocess_tweet(sentence)\n",
    "    sentence_vectorized = vectorizer.transform([sentence_cleaned])\n",
    "    prediction = model.predict(sentence_vectorized)\n",
    "\n",
    "    label_mapping = {0: 'Negative', 1: 'Neutral', 2: 'Positive', 3: 'Irrelevant'}\n",
    "    if prediction[0] in label_mapping:\n",
    "        return label_mapping[prediction[0]]\n",
    "    else:\n",
    "        return f\"{prediction[0]}\"\n",
    "\n",
    "def on_submit(change):\n",
    "    with output:\n",
    "        clear_output(wait=True) \n",
    "        user_input = input_box.value.strip()  \n",
    "        if not user_input:\n",
    "            print(\"Please enter a valid sentence!\")\n",
    "            return\n",
    "        if user_input.lower() == 'exit':\n",
    "            print(\"Goodbye!\")\n",
    "            return\n",
    "        try:\n",
    "            sentiment = classify_sentence(user_input)\n",
    "            print(f\"Predicted Sentiment: {sentiment}\")\n",
    "        except KeyError as e:\n",
    "            print(f\"Error: {e}. Ensure your model outputs match the label mapping.\")\n",
    "\n",
    "submit_button.on_click(on_submit)\n",
    "\n",
    "display(input_box, submit_button, output)\n"
   ]
  },
  {
   "cell_type": "code",
   "execution_count": null,
   "metadata": {},
   "outputs": [],
   "source": []
  }
 ],
 "metadata": {
  "kernelspec": {
   "display_name": "Python 3",
   "language": "python",
   "name": "python3"
  },
  "language_info": {
   "codemirror_mode": {
    "name": "ipython",
    "version": 3
   },
   "file_extension": ".py",
   "mimetype": "text/x-python",
   "name": "python",
   "nbconvert_exporter": "python",
   "pygments_lexer": "ipython3",
   "version": "3.10.2"
  }
 },
 "nbformat": 4,
 "nbformat_minor": 2
}
